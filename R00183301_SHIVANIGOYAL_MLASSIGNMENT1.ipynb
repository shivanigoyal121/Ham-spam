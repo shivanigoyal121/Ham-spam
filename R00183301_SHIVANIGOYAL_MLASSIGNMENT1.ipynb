{
 "cells": [
  {
   "cell_type": "markdown",
   "metadata": {},
   "source": [
    "# ASSIGNMENT 1\n",
    "SUBMITTED BY - SHIVANI GOYAL<BR>\n",
    "R00183301"
   ]
  },
  {
   "cell_type": "markdown",
   "metadata": {},
   "source": [
    "## INTRODUCTION\n",
    "The provided dataset is the collection of spam and non-spam emails which is collected from the Enron Coorporation emails available on the web.<br>\n",
    "The dataset is the text data which contains two folders of spam and ham(non-spam) emails such that 1500 files are collection of spam emails and 3672 of ham emails.<br>\n",
    "The main motive of this project is to classify the spam or non-spam emails using machine learning algorithms which includes the supervised classification models."
   ]
  },
  {
   "cell_type": "markdown",
   "metadata": {},
   "source": [
    "## Importing Libraries and Install Packages"
   ]
  },
  {
   "cell_type": "code",
   "execution_count": 100,
   "metadata": {},
   "outputs": [
    {
     "name": "stderr",
     "output_type": "stream",
     "text": [
      "[nltk_data] Downloading package stopwords to C:\\Users\\pallavi\n",
      "[nltk_data]     goyal\\AppData\\Roaming\\nltk_data...\n",
      "[nltk_data]   Package stopwords is already up-to-date!\n",
      "[nltk_data] Downloading package punkt to C:\\Users\\pallavi\n",
      "[nltk_data]     goyal\\AppData\\Roaming\\nltk_data...\n",
      "[nltk_data]   Package punkt is already up-to-date!\n"
     ]
    }
   ],
   "source": [
    "import os\n",
    "import re\n",
    "from collections import Counter\n",
    "import math\n",
    "import pandas as pd\n",
    "import string \n",
    "from nltk import stem\n",
    "import nltk\n",
    "nltk.download('stopwords')\n",
    "nltk.download('punkt')\n",
    "from nltk.corpus import stopwords \n",
    "from nltk.tokenize import word_tokenize \n",
    "from sklearn.feature_extraction.text import CountVectorizer\n",
    "from sklearn.metrics import accuracy_score\n",
    "from sklearn.metrics import confusion_matrix\n",
    "from sklearn.feature_extraction.text import TfidfVectorizer\n",
    "from sklearn.model_selection import train_test_split, KFold, cross_val_score\n",
    "from sklearn.svm import SVC\n",
    "from sklearn.ensemble import RandomForestClassifier\n",
    "from sklearn.metrics import accuracy_score, f1_score\n",
    "from sklearn.pipeline import make_pipeline\n",
    "from sklearn.naive_bayes import MultinomialNB\n",
    "from sklearn.model_selection import train_test_split\n",
    "import matplotlib.pyplot as plt\n",
    "import seaborn as sns\n",
    "import numpy as np\n",
    "from sklearn.datasets import load_digits\n",
    "from sklearn.model_selection import validation_curve\n",
    "from sklearn.model_selection import learning_curve"
   ]
  },
  {
   "cell_type": "markdown",
   "metadata": {},
   "source": [
    "## Data Path Configuration"
   ]
  },
  {
   "cell_type": "code",
   "execution_count": 101,
   "metadata": {},
   "outputs": [
    {
     "name": "stdout",
     "output_type": "stream",
     "text": [
      "                                               Messages  Type\n",
      "0     Subject: dobmeos with hgh my energy level has ...     1\n",
      "1     Subject: your prescription is ready . . oxwq s...     1\n",
      "2     Subject: get that new car 8434\\npeople nowthe ...     1\n",
      "3     Subject: await your response\\ndear partner ,\\n...     1\n",
      "4     Subject: coca cola , mbna america , nascar par...     1\n",
      "...                                                 ...   ...\n",
      "3667  Subject: re : tenaska iv\\ni ' ll call you on t...     0\n",
      "3668  Subject: generic contract\\nhi daren ,\\nsorry f...     0\n",
      "3669  Subject: re : contracts and credit\\nthanks - -...     0\n",
      "3670  Subject: re : tenaska iv\\nok , since we don ' ...     0\n",
      "3671  Subject: re : tenaska iv\\ni tried calling you ...     0\n",
      "\n",
      "[5172 rows x 2 columns]\n"
     ]
    }
   ],
   "source": [
    "hamPath = 'ham/'  #giving path of ham files directory and storing in variable hamPath \n",
    "spamPath = 'spam/' #giving path of spam files directory and storing in variable spamPath\n",
    "\n",
    "listing_ham = os.listdir(hamPath)  #reading the ham files and storing as list\n",
    "listing_spam = os.listdir(spamPath) #reading the spam files and storing as list\n",
    "\n",
    "hamList, spamList = [], []\n",
    "\n",
    "#reading all the messages of ham mails and storing as list in hamList\n",
    "for file in listing_ham:    \n",
    "    f = open(hamPath + file, \"r\", encoding=\"utf8\", errors=\"ignore\")\n",
    "    file_words = f.read()\n",
    "    hamList.append(file_words)\n",
    "    f.close()\n",
    "\n",
    "#reading all the messages of spam mails and storing as list in spamList    \n",
    "for file in listing_spam:\n",
    "    f = open(spamPath + file, \"r\", encoding=\"utf8\", errors=\"ignore\")\n",
    "    file_words = f.read()\n",
    "    spamList.append(file_words)\n",
    "    f.close()\n",
    "\n",
    "#creating the dataframe df_ham such that column of 'Messages' consist text data and 'Type' is '0'      \n",
    "df_ham = pd.DataFrame({'Messages': hamList})\n",
    "df_ham['Type'] = 0\n",
    "\n",
    "#creating the dataframe df_spam such that column of 'Messages' consist text data and 'Type' is '1'\n",
    "df_spam = pd.DataFrame({'Messages': spamList})\n",
    "df_spam['Type'] = 1\n",
    "\n",
    "#merging the dataframe of df_ham and df_spam\n",
    "df_all_mail = pd.concat([df_spam, df_ham])\n",
    "\n",
    "print(df_all_mail)\n"
   ]
  },
  {
   "cell_type": "code",
   "execution_count": 102,
   "metadata": {},
   "outputs": [
    {
     "data": {
      "text/plain": [
       "0    3672\n",
       "1    1500\n",
       "Name: Type, dtype: int64"
      ]
     },
     "execution_count": 102,
     "metadata": {},
     "output_type": "execute_result"
    }
   ],
   "source": [
    "#displays the count of ham and spam mails\n",
    "df_all_mail.Type.value_counts()\n",
    "#3672 ham and 1500 spam"
   ]
  },
  {
   "cell_type": "code",
   "execution_count": 103,
   "metadata": {},
   "outputs": [
    {
     "data": {
      "text/plain": [
       "Messages    0\n",
       "Type        0\n",
       "dtype: int64"
      ]
     },
     "execution_count": 103,
     "metadata": {},
     "output_type": "execute_result"
    }
   ],
   "source": [
    "#gives the number of null values\n",
    "df_all_mail.isna().sum()\n",
    "# no null values found"
   ]
  },
  {
   "cell_type": "code",
   "execution_count": 104,
   "metadata": {},
   "outputs": [
    {
     "data": {
      "text/plain": [
       "0    3531\n",
       "1    1463\n",
       "Name: Type, dtype: int64"
      ]
     },
     "execution_count": 104,
     "metadata": {},
     "output_type": "execute_result"
    }
   ],
   "source": [
    "# to remove duplicate rows\n",
    "df_all_mail.drop_duplicates(inplace = True)\n",
    "df_all_mail.Type.value_counts()\n",
    "#3531 ham & 1463 spam"
   ]
  },
  {
   "cell_type": "code",
   "execution_count": 105,
   "metadata": {},
   "outputs": [
    {
     "data": {
      "text/html": [
       "<div>\n",
       "<style scoped>\n",
       "    .dataframe tbody tr th:only-of-type {\n",
       "        vertical-align: middle;\n",
       "    }\n",
       "\n",
       "    .dataframe tbody tr th {\n",
       "        vertical-align: top;\n",
       "    }\n",
       "\n",
       "    .dataframe thead th {\n",
       "        text-align: right;\n",
       "    }\n",
       "</style>\n",
       "<table border=\"1\" class=\"dataframe\">\n",
       "  <thead>\n",
       "    <tr style=\"text-align: right;\">\n",
       "      <th></th>\n",
       "      <th>Messages</th>\n",
       "      <th>Type</th>\n",
       "    </tr>\n",
       "  </thead>\n",
       "  <tbody>\n",
       "    <tr>\n",
       "      <td>0</td>\n",
       "      <td>Subject: fw : pymt for 03 / 01 sales adjustmen...</td>\n",
       "      <td>0</td>\n",
       "    </tr>\n",
       "    <tr>\n",
       "      <td>1</td>\n",
       "      <td>Subject: eol deal ids in path manager\\nthought...</td>\n",
       "      <td>0</td>\n",
       "    </tr>\n",
       "    <tr>\n",
       "      <td>2</td>\n",
       "      <td>Subject: re : nom / actual for may 2 nd\\nwe ag...</td>\n",
       "      <td>0</td>\n",
       "    </tr>\n",
       "    <tr>\n",
       "      <td>3</td>\n",
       "      <td>Subject: mobil chemical - pasadena - hpl meter...</td>\n",
       "      <td>0</td>\n",
       "    </tr>\n",
       "    <tr>\n",
       "      <td>4</td>\n",
       "      <td>Subject: free mortgage quotes\\nyou want to fre...</td>\n",
       "      <td>1</td>\n",
       "    </tr>\n",
       "  </tbody>\n",
       "</table>\n",
       "</div>"
      ],
      "text/plain": [
       "                                            Messages  Type\n",
       "0  Subject: fw : pymt for 03 / 01 sales adjustmen...     0\n",
       "1  Subject: eol deal ids in path manager\\nthought...     0\n",
       "2  Subject: re : nom / actual for may 2 nd\\nwe ag...     0\n",
       "3  Subject: mobil chemical - pasadena - hpl meter...     0\n",
       "4  Subject: free mortgage quotes\\nyou want to fre...     1"
      ]
     },
     "execution_count": 105,
     "metadata": {},
     "output_type": "execute_result"
    }
   ],
   "source": [
    "#shuffling the rows\n",
    "df_all_mail = df_all_mail.sample(frac=1).reset_index(drop=True)\n",
    "df_all_mail.head()"
   ]
  },
  {
   "cell_type": "code",
   "execution_count": 106,
   "metadata": {},
   "outputs": [
    {
     "data": {
      "text/plain": [
       "0       Subject: fw : pymt for 03 / 01 sales adjustmen...\n",
       "1       Subject: eol deal ids in path manager\\nthought...\n",
       "2       Subject: re : nom / actual for may 2 nd\\nwe ag...\n",
       "3       Subject: mobil chemical - pasadena - hpl meter...\n",
       "4       Subject: free mortgage quotes\\nyou want to fre...\n",
       "                              ...                        \n",
       "4989    Subject: epgt\\nmike :\\ni am down to the last f...\n",
       "4990    Subject: re : ami chokshi resigns\\ni have an e...\n",
       "4991    Subject: ces - duke en field services\\nthe pur...\n",
       "4992    Subject: i will be in dallas meeting with tufc...\n",
       "4993    Subject: cleburne\\ndaren & john ,\\nsee the att...\n",
       "Name: Messages, Length: 4994, dtype: object"
      ]
     },
     "execution_count": 106,
     "metadata": {},
     "output_type": "execute_result"
    }
   ],
   "source": [
    "df_msg = df_all_mail['Messages']  #store the 'Messages' column data to df_msg variable\n",
    "df_type = df_all_mail['Type']  #store the 'Type' column data to df_type variable\n",
    "df_msg #displays the message column data"
   ]
  },
  {
   "cell_type": "markdown",
   "metadata": {},
   "source": [
    "The dataframe 'df_all_mail' has total 5172 rows from which 1500 are spam and 3672 are non-spam data. <br>It does not contain any null values.<br>\n",
    "Also, checked for duplicate rows. After removing duplicate rows, the count of ham and spam rows are 3531 and 1463 respectively.\n",
    "<br><br><b>IMBALANCED DATA</b> This occurs when samples from one class or from multiple classes are over-represented in a dataset. As this is the case in our dataset.The proportion of non-spam mails are comparitively higher than spam mails which leads to the imbalance of data. <br>\n",
    "However, there are a wide range of approaches to dealing with this issue the\n",
    "most common is applying common techniques of sampling that attempts to equal the\n",
    "distribution. <br/><br>Some of the common approaches are :<br>\n",
    "1)Random Under Sampling - Removes data randomly from the majority class to balance the both classes. However, this could lead to loss of the important data. <br>\n",
    "2)Random Over Sampling - It gradually increases the size of minority class. This may lead to overfitting.<br>\n",
    "3)SMOTE(Synthetic Minority Over-sampling Technique) is an oversampling\n",
    "technique that allows to create new artificial data points in the dataset. <br>\n",
    "<BR>Here, used different approach to deal with the imbalanced data is that before splitting the dataset into training and test set has shuffled the data because while using SMOTE technique error occured. \"ERROR - ModuleNotFoundError: No module named 'imblearn' \"."
   ]
  },
  {
   "cell_type": "markdown",
   "metadata": {},
   "source": [
    "## Task 1 - Preprocessing"
   ]
  },
  {
   "cell_type": "markdown",
   "metadata": {},
   "source": [
    "### Cleaning The Dataset & Feature Extraction\n",
    "\n",
    "This includes - <br>a) Removing punctuations \n",
    "            <br>b) Lowering all the texts <br>\n",
    "                c) Text Normalising using Stemming Technique<br>\n",
    "                d) Removing Stopwords which includes frequently used words like \"the\", \"a\", \"for\" etc. <br>\n",
    "                e) Removing words with length smaller than 3 letters <br>\n",
    "                f) Removing Digits <br>\n",
    "                g) Correcting Letter Repetition <br>\n",
    "                h) Removing rarely occured words"
   ]
  },
  {
   "cell_type": "markdown",
   "metadata": {},
   "source": [
    "The below function covers first three point of data cleaning."
   ]
  },
  {
   "cell_type": "code",
   "execution_count": 107,
   "metadata": {},
   "outputs": [],
   "source": [
    "#creates function of text cleaning which removes punctuations,lowers the text data and normalises the text\n",
    "def textCleaning(text):\n",
    "    for punctuation in string.punctuation:\n",
    "        text = text.replace(punctuation, '') #removes punctuation marks\n",
    "    \n",
    "    text = text.lower() #lowercase the all text \n",
    "    text = text.replace('[^\\w\\s]+',' ') #removes the extra whitespaces\n",
    "\n",
    "    stemmer = stem.SnowballStemmer(\"english\")\n",
    "    text = \"\".join([stemmer.stem(word) for word in text]) #text normalisation\n",
    "    \n",
    "    return text"
   ]
  },
  {
   "cell_type": "code",
   "execution_count": 108,
   "metadata": {},
   "outputs": [
    {
     "data": {
      "text/plain": [
       "'subject eol deal ids in path manager\\nthought you might want to see this \\n                      forwarded by edward terry  hou  ect on 02  21  2001 09  19\\nam                           \\nfrom  matt pena  enron  enronxgate on 02  21  2001 09  11 am\\nto  edward terry  hou  ect  ect  george f smith  hou  ect  ect  patti\\nsullivan  hou  ect  ect  katherine l kelly  hou  ect  ect  robert\\nsuperty  hou  ect  ect  victor lamadrid  hou  ect  ect  beverly beaty  hou  ect  ect \\ndonna greif  hou  ect  ect  richard pinion  hou  ect  ect\\ncc  chris schomer  enron  enronxgate  brian ripley  enron  enronxgate  bob m\\nhall  na  enron  enron  bryce baxter  hou  ect  ect\\nsubject  eol deal ids in path manager\\nas you  re aware  we  re having to bridge houston street ids into unify from\\nsitara \\nwe are being asked  as a requirement  to not display the eol id on statements\\nthat are identified as  broker eol trade  deals originating from eol  we\\nhave two options to accomodate this requirement \\noption 1 is to have the modify the bridge code to not bridge over the eol\\ndeal id if the deal is a  broker eol trade  deal  one of the drawbacks of\\nthis option is that you won  t be able to referenence the eol id on the path\\nmanager for these related deals  all other deals will have the eol deal id \\nif applicable  the eol id would not show up on the statements because it\\nwouldn  t be populated \\noption 2 is to modify several areas of code in the settlements area which may\\nbe more time consuming  the obvious code change would be in the statement\\ngeneration area as well as other report type information \\noption 2 allows you the greatest flexibility while option 1 may be quicker to\\nimplement \\nplease pass this along to others in your group and get feedback  please\\nshare your thoughts    \\ni  ve attached an email explaining the broker eol trades  this is not to be\\nconfused with broker deals done at a given point with not transportation \\nthese will continue to come across as you  d normally expect \\nany questions  please ask   \\nthanks '"
      ]
     },
     "execution_count": 108,
     "metadata": {},
     "output_type": "execute_result"
    }
   ],
   "source": [
    "df_msg1 = df_msg.apply(textCleaning) #apply textCleaning function to df_msg\n",
    "df_msg1[1] #displays the first index message\n"
   ]
  },
  {
   "cell_type": "markdown",
   "metadata": {},
   "source": [
    "<b>TEXT NORMALISATION</b> <br>This could be achieved by Stemming and Lemmitizing approach. This is the part of \n",
    "    pre-processing. Stemming stems the word i.e. it removes prefixes or suffixes means removes inflection from \n",
    "    the words to change it into its root form.<br>\n",
    "    Here, used Python NLTK SnowballStemmers. It is one of non-english stemmer. It supports many languages\n",
    "    like English, French, German,Dutch and many more. One can program their own language stemmer using snowball."
   ]
  },
  {
   "cell_type": "markdown",
   "metadata": {},
   "source": [
    "<b>STOPWORDS</b><br>\n",
    "The next step is to remove the stopwords because they does not add much meaning to a sentence. \n",
    "They can safely be ignored without loosing the meaning of the sentence.Mostly they are words that are commonly used in the English language such as 'as, the, be, are' etc."
   ]
  },
  {
   "cell_type": "code",
   "execution_count": 109,
   "metadata": {},
   "outputs": [
    {
     "data": {
      "text/plain": [
       "'subject deal path manager thought might want forwarded edward terry 2001 matt pena enron enronxgate 2001 edward terry george smith patti sullivan katherine kelly robert superty victor lamadrid beverly beaty donna greif richard pinion chris schomer enron enronxgate brian ripley enron enronxgate hall enron enron bryce baxter subject deal path manager aware bridge houston street unify sitara asked requirement display statements identified broker trade deals originating options accomodate requirement option modify bridge code bridge deal deal broker trade deal drawbacks option able referenence path manager related deals deals deal applicable would show statements populated option modify several areas code settlements area time consuming obvious code change would statement generation area well report type information option allows greatest flexibility option quicker implement please pass along others group feedback please share thoughts attached email explaining broker trades confused broker deals done given point transportation continue come across normally expect questions please thanks'"
      ]
     },
     "execution_count": 109,
     "metadata": {},
     "output_type": "execute_result"
    }
   ],
   "source": [
    "stop = stopwords.words('english')\n",
    "\n",
    "df_msg1 = df_msg1.apply(lambda x: \" \".join(x for x in x.split() if x not in stop and len(x)>3))\n",
    "# remove stop words and words with length smaller than 3 letters\n",
    "\n",
    "df_msg1[1] #displays the first index message"
   ]
  },
  {
   "cell_type": "code",
   "execution_count": 110,
   "metadata": {},
   "outputs": [],
   "source": [
    "# Correcting Letter Repetition\n",
    "def de_repeat(text):\n",
    "    pattern = re.compile(r\"(.)\\1{2,}\")\n",
    "    return pattern.sub(r\"\\1\\1\", text)"
   ]
  },
  {
   "cell_type": "code",
   "execution_count": 111,
   "metadata": {},
   "outputs": [
    {
     "data": {
      "text/plain": [
       "'subject deal path manager thought might want forwarded edward terry 2001 matt pena enron enronxgate 2001 edward terry george smith patti sullivan katherine kelly robert superty victor lamadrid beverly beaty donna greif richard pinion chris schomer enron enronxgate brian ripley enron enronxgate hall enron enron bryce baxter subject deal path manager aware bridge houston street unify sitara asked requirement display statements identified broker trade deals originating options accomodate requirement option modify bridge code bridge deal deal broker trade deal drawbacks option able referenence path manager related deals deals deal applicable would show statements populated option modify several areas code settlements area time consuming obvious code change would statement generation area well report type information option allows greatest flexibility option quicker implement please pass along others group feedback please share thoughts attached email explaining broker trades confused broker deals done given point transportation continue come across normally expect questions please thanks'"
      ]
     },
     "execution_count": 111,
     "metadata": {},
     "output_type": "execute_result"
    }
   ],
   "source": [
    "df_msg1 = df_msg1.apply(lambda x: \" \".join(de_repeat(x) for x in x.split()))\n",
    "df_msg1[1] #displays the first index message"
   ]
  },
  {
   "cell_type": "code",
   "execution_count": 112,
   "metadata": {},
   "outputs": [
    {
     "data": {
      "text/plain": [
       "'subject deal path manager thought might want forwarded edward terry   matt pena enron enronxgate   edward terry george smith patti sullivan katherine kelly robert superty victor lamadrid beverly beaty donna greif richard pinion chris schomer enron enronxgate brian ripley enron enronxgate hall enron enron bryce baxter subject deal path manager aware bridge houston street unify sitara asked requirement display statements identified broker trade deals originating options accomodate requirement option modify bridge code bridge deal deal broker trade deal drawbacks option able referenence path manager related deals deals deal applicable would show statements populated option modify several areas code settlements area time consuming obvious code change would statement generation area well report type information option allows greatest flexibility option quicker implement please pass along others group feedback please share thoughts attached email explaining broker trades confused broker deals done given point transportation continue come across normally expect questions please thanks'"
      ]
     },
     "execution_count": 112,
     "metadata": {},
     "output_type": "execute_result"
    }
   ],
   "source": [
    "#removing digits\n",
    "df_msg1 = df_msg1.str.replace('\\d+', ' ')\n",
    "df_msg1[1] #displays the first index message"
   ]
  },
  {
   "cell_type": "code",
   "execution_count": 113,
   "metadata": {},
   "outputs": [
    {
     "data": {
      "text/plain": [
       "'subject deal path manager thought might want forwarded edward terry matt pena enron enronxgate edward terry george smith patti sullivan katherine kelly robert superty victor lamadrid beverly beaty donna greif richard pinion chris schomer enron enronxgate brian ripley enron enronxgate hall enron enron bryce baxter subject deal path manager aware bridge houston street unify sitara asked requirement display statements identified broker trade deals originating options accomodate requirement option modify bridge code bridge deal deal broker trade deal drawbacks option able referenence path manager related deals deals deal applicable would show statements populated option modify several areas code settlements area time consuming obvious code change would statement generation area well report type information option allows greatest flexibility option quicker implement please pass along others group feedback please share thoughts attached email explaining broker trades confused broker deals done given point transportation continue come across normally expect questions please thanks'"
      ]
     },
     "execution_count": 113,
     "metadata": {},
     "output_type": "execute_result"
    }
   ],
   "source": [
    "#finds top 10,000 rarest words\n",
    "freq = pd.Series(' '.join(df_msg1).split()).value_counts()[-10000:]\n",
    "\n",
    "# Removes rarely appeared data\n",
    "freq = list(freq.index)\n",
    "df_msg1 = df_msg1.apply(lambda x: \" \".join(x for x in x.split() if x not in freq))\n",
    "df_msg1[1] #displays the first index message"
   ]
  },
  {
   "cell_type": "markdown",
   "metadata": {},
   "source": [
    "### Training and Test Splits"
   ]
  },
  {
   "cell_type": "markdown",
   "metadata": {},
   "source": [
    "Splitted the data into training and test set such that training set consists 70% of the data and 30% to test set. "
   ]
  },
  {
   "cell_type": "code",
   "execution_count": 114,
   "metadata": {},
   "outputs": [],
   "source": [
    "# from sklearn.cross_validation import train_test_split\n",
    "from sklearn.model_selection import train_test_split\n",
    "type_train, type_test, msg_train, msg_test = train_test_split(df_type, df_msg1, test_size=0.3, random_state=2, shuffle=True)"
   ]
  },
  {
   "cell_type": "code",
   "execution_count": 115,
   "metadata": {},
   "outputs": [
    {
     "data": {
      "text/plain": [
       "614     subject ciallis softabs onlly ayfy ialis softa...\n",
       "2555    subject product cialis soft tabs product offer...\n",
       "1161    subject sitara desk request cleburne response ...\n",
       "827     subject meter arthur refinery chevron daren re...\n",
       "3828    subject production sitara deals needed vance d...\n",
       "Name: Messages, dtype: object"
      ]
     },
     "execution_count": 115,
     "metadata": {},
     "output_type": "execute_result"
    }
   ],
   "source": [
    "msg_train.head() #displays the head of training message datacolumn"
   ]
  },
  {
   "cell_type": "code",
   "execution_count": 116,
   "metadata": {},
   "outputs": [
    {
     "data": {
      "text/plain": [
       "0    2468\n",
       "1    1027\n",
       "Name: Type, dtype: int64"
      ]
     },
     "execution_count": 116,
     "metadata": {},
     "output_type": "execute_result"
    }
   ],
   "source": [
    "type_train.value_counts() #displays the count of ham and spam data in training set"
   ]
  },
  {
   "cell_type": "code",
   "execution_count": 117,
   "metadata": {},
   "outputs": [
    {
     "data": {
      "text/plain": [
       "0    1063\n",
       "1     436\n",
       "Name: Type, dtype: int64"
      ]
     },
     "execution_count": 117,
     "metadata": {},
     "output_type": "execute_result"
    }
   ],
   "source": [
    "# displays the count of ham and spam data in test set\n",
    "type_test.value_counts()\n"
   ]
  },
  {
   "cell_type": "markdown",
   "metadata": {},
   "source": [
    "Test set contains 1063 ham data rows and 436 spam data. While Training dataset contains 2468 ham and 1027 spam mails."
   ]
  },
  {
   "cell_type": "markdown",
   "metadata": {},
   "source": [
    "## TASK 2 - EXPLORATORY DATA ANALYSIS"
   ]
  },
  {
   "cell_type": "code",
   "execution_count": 118,
   "metadata": {},
   "outputs": [
    {
     "data": {
      "text/html": [
       "<div>\n",
       "<style scoped>\n",
       "    .dataframe tbody tr th:only-of-type {\n",
       "        vertical-align: middle;\n",
       "    }\n",
       "\n",
       "    .dataframe tbody tr th {\n",
       "        vertical-align: top;\n",
       "    }\n",
       "\n",
       "    .dataframe thead th {\n",
       "        text-align: right;\n",
       "    }\n",
       "</style>\n",
       "<table border=\"1\" class=\"dataframe\">\n",
       "  <thead>\n",
       "    <tr style=\"text-align: right;\">\n",
       "      <th></th>\n",
       "      <th>Messages</th>\n",
       "      <th>Type</th>\n",
       "    </tr>\n",
       "  </thead>\n",
       "  <tbody>\n",
       "    <tr>\n",
       "      <td>614</td>\n",
       "      <td>subject ciallis softabs onlly ayfy ialis softa...</td>\n",
       "      <td>1</td>\n",
       "    </tr>\n",
       "    <tr>\n",
       "      <td>2555</td>\n",
       "      <td>subject product cialis soft tabs product offer...</td>\n",
       "      <td>1</td>\n",
       "    </tr>\n",
       "    <tr>\n",
       "      <td>1161</td>\n",
       "      <td>subject sitara desk request cleburne response ...</td>\n",
       "      <td>0</td>\n",
       "    </tr>\n",
       "    <tr>\n",
       "      <td>827</td>\n",
       "      <td>subject meter arthur refinery chevron daren re...</td>\n",
       "      <td>0</td>\n",
       "    </tr>\n",
       "    <tr>\n",
       "      <td>3828</td>\n",
       "      <td>subject production sitara deals needed vance d...</td>\n",
       "      <td>0</td>\n",
       "    </tr>\n",
       "    <tr>\n",
       "      <td>...</td>\n",
       "      <td>...</td>\n",
       "      <td>...</td>\n",
       "    </tr>\n",
       "    <tr>\n",
       "      <td>3335</td>\n",
       "      <td>subject conoco katy tailgate contract sitara r...</td>\n",
       "      <td>0</td>\n",
       "    </tr>\n",
       "    <tr>\n",
       "      <td>1099</td>\n",
       "      <td>subject latest frontera forwarded hall enron l...</td>\n",
       "      <td>0</td>\n",
       "    </tr>\n",
       "    <tr>\n",
       "      <td>2514</td>\n",
       "      <td>subject software home office child grow best s...</td>\n",
       "      <td>1</td>\n",
       "    </tr>\n",
       "    <tr>\n",
       "      <td>3606</td>\n",
       "      <td>subject auto reply special report smallcap roc...</td>\n",
       "      <td>1</td>\n",
       "    </tr>\n",
       "    <tr>\n",
       "      <td>2575</td>\n",
       "      <td>subject great quality pictures free megapixel ...</td>\n",
       "      <td>1</td>\n",
       "    </tr>\n",
       "  </tbody>\n",
       "</table>\n",
       "<p>3495 rows × 2 columns</p>\n",
       "</div>"
      ],
      "text/plain": [
       "                                               Messages  Type\n",
       "614   subject ciallis softabs onlly ayfy ialis softa...     1\n",
       "2555  subject product cialis soft tabs product offer...     1\n",
       "1161  subject sitara desk request cleburne response ...     0\n",
       "827   subject meter arthur refinery chevron daren re...     0\n",
       "3828  subject production sitara deals needed vance d...     0\n",
       "...                                                 ...   ...\n",
       "3335  subject conoco katy tailgate contract sitara r...     0\n",
       "1099  subject latest frontera forwarded hall enron l...     0\n",
       "2514  subject software home office child grow best s...     1\n",
       "3606  subject auto reply special report smallcap roc...     1\n",
       "2575  subject great quality pictures free megapixel ...     1\n",
       "\n",
       "[3495 rows x 2 columns]"
      ]
     },
     "execution_count": 118,
     "metadata": {},
     "output_type": "execute_result"
    }
   ],
   "source": [
    "#merge the training set message and type data to create 'trainingData' dataframe\n",
    "trainingData = pd.concat([msg_train, type_train],axis=1)\n",
    "trainingData #dispalys dataframe"
   ]
  },
  {
   "cell_type": "code",
   "execution_count": 119,
   "metadata": {},
   "outputs": [
    {
     "data": {
      "text/plain": [
       "count                                        3495\n",
       "unique                                       3272\n",
       "top       subject april attached file hplno hplno\n",
       "freq                                           15\n",
       "Name: Messages, dtype: object"
      ]
     },
     "execution_count": 119,
     "metadata": {},
     "output_type": "execute_result"
    }
   ],
   "source": [
    "trainingData['Messages'].describe() #displays statistical desciption"
   ]
  },
  {
   "cell_type": "code",
   "execution_count": 120,
   "metadata": {},
   "outputs": [
    {
     "data": {
      "text/html": [
       "<div>\n",
       "<style scoped>\n",
       "    .dataframe tbody tr th:only-of-type {\n",
       "        vertical-align: middle;\n",
       "    }\n",
       "\n",
       "    .dataframe tbody tr th {\n",
       "        vertical-align: top;\n",
       "    }\n",
       "\n",
       "    .dataframe thead tr th {\n",
       "        text-align: left;\n",
       "    }\n",
       "\n",
       "    .dataframe thead tr:last-of-type th {\n",
       "        text-align: right;\n",
       "    }\n",
       "</style>\n",
       "<table border=\"1\" class=\"dataframe\">\n",
       "  <thead>\n",
       "    <tr>\n",
       "      <th></th>\n",
       "      <th colspan=\"4\" halign=\"left\">Messages</th>\n",
       "    </tr>\n",
       "    <tr>\n",
       "      <th></th>\n",
       "      <th>count</th>\n",
       "      <th>unique</th>\n",
       "      <th>top</th>\n",
       "      <th>freq</th>\n",
       "    </tr>\n",
       "    <tr>\n",
       "      <th>Type</th>\n",
       "      <th></th>\n",
       "      <th></th>\n",
       "      <th></th>\n",
       "      <th></th>\n",
       "    </tr>\n",
       "  </thead>\n",
       "  <tbody>\n",
       "    <tr>\n",
       "      <td>0</td>\n",
       "      <td>2468</td>\n",
       "      <td>2254</td>\n",
       "      <td>subject attached file hplno hplno</td>\n",
       "      <td>15</td>\n",
       "    </tr>\n",
       "    <tr>\n",
       "      <td>1</td>\n",
       "      <td>1027</td>\n",
       "      <td>1018</td>\n",
       "      <td>subject</td>\n",
       "      <td>5</td>\n",
       "    </tr>\n",
       "  </tbody>\n",
       "</table>\n",
       "</div>"
      ],
      "text/plain": [
       "     Messages                                               \n",
       "        count unique                                top freq\n",
       "Type                                                        \n",
       "0        2468   2254  subject attached file hplno hplno   15\n",
       "1        1027   1018                            subject    5"
      ]
     },
     "execution_count": 120,
     "metadata": {},
     "output_type": "execute_result"
    }
   ],
   "source": [
    "trainingData.groupby('Type').describe() #displays statistical desciption by 'Type'"
   ]
  },
  {
   "cell_type": "markdown",
   "metadata": {},
   "source": [
    "The statistical analysis shows that there are 2468 ham text and 1027 spam text. Most of the messages are unique. The highest repetition in ham text is \"subject attached file hplno hplno\" "
   ]
  },
  {
   "cell_type": "markdown",
   "metadata": {},
   "source": [
    "First, let's visualize the number of spam text vs. ham text"
   ]
  },
  {
   "cell_type": "code",
   "execution_count": 121,
   "metadata": {},
   "outputs": [
    {
     "data": {
      "text/plain": [
       "Text(0.5, 1.0, 'Distribution Of Data')"
      ]
     },
     "execution_count": 121,
     "metadata": {},
     "output_type": "execute_result"
    },
    {
     "data": {
      "image/png": "[encoded data removed]",
      "text/plain": [
       "<Figure size 432x288 with 1 Axes>"
      ]
     },
     "metadata": {},
     "output_type": "display_data"
    }
   ],
   "source": [
    "# plots the barplot of distribution of data\n",
    "sns.set(style=\"darkgrid\")\n",
    "ax = sns.countplot(x=\"Type\", data = trainingData)\n",
    "plt.title('Distribution Of Data', fontsize = 15)\n"
   ]
  },
  {
   "cell_type": "markdown",
   "metadata": {},
   "source": [
    "<b>Observation</b> Clearly the count of ham data which is 2468 is comparitively more than spam data of 1027. This could create\n",
    "biasness and could influence in the performance of model. So, have to take care while metric selection in the model building part. "
   ]
  },
  {
   "cell_type": "markdown",
   "metadata": {},
   "source": [
    "To visualise the top-20 most frequently used words in spam and non-spam emails:"
   ]
  },
  {
   "cell_type": "code",
   "execution_count": 122,
   "metadata": {},
   "outputs": [
    {
     "name": "stdout",
     "output_type": "stream",
     "text": [
      "The top 20 most frequently used words in Spam are:\n",
      " [('subject', 1138), ('http', 683), ('company', 577), ('statements', 417), ('nbsp', 391), ('information', 389), ('font', 389), ('price', 357), ('email', 348), ('please', 336), ('pills', 291), ('time', 271), ('within', 267), ('height', 251), ('stock', 235), ('report', 223), ('securities', 222), ('investment', 219), ('size', 218), ('looking', 217)] \n",
      "\n",
      "The top 20 most frequently used words in Ham emails are:\n",
      " [('enron', 4757), ('subject', 4354), ('please', 1885), ('deal', 1812), ('meter', 1689), ('daren', 1255), ('thanks', 1233), ('corp', 1225), ('know', 982), ('mmbtu', 955), ('forwarded', 902), ('need', 841), ('farmer', 769), ('attached', 747), ('robert', 616), ('contract', 601), ('would', 599), ('sitara', 587), ('volume', 562), ('volumes', 559)]\n"
     ]
    }
   ],
   "source": [
    "from collections import Counter\n",
    "hamWords = []\n",
    "spamWords =[]\n",
    "#Stores the ham and spam messages in a list 'hamList' and 'spamList' respectively \n",
    "hamList, spamList = trainingData.groupby('Type')['Messages'].apply(lambda x: list(x))[0],trainingData.groupby('Type')['Messages'].apply(lambda x: list(x))[1]\n",
    "\n",
    "hamWords = [w for sen in hamList for w in sen.split()] #splits the each word in a hamList and store in hamWords\n",
    "hamCount = Counter(hamWords) #Counts the occurance of each word in 'hamWords' list\n",
    "\n",
    "#top twenty most used ham words are stored in topTwentyHamCount \n",
    "topTwentyHamCount = hamCount.most_common(20)\n",
    "\n",
    "\n",
    "spamWords = [w for sen in spamList for w in sen.split()] #splits the each word in a spamList and store in spamWords\n",
    "spamCount = Counter(spamWords) #Counts the occurance of each word in 'spamWords' list\n",
    "\n",
    "#top twenty most used spam words are stored in topTwentySpamCount \n",
    "topTwentySpamCount = spamCount.most_common(20)\n",
    "\n",
    "\n",
    "#Displays the top 20 frequently used words in Spam and Ham Emails\n",
    "print(\"The top 20 most frequently used words in Spam are:\\n\",topTwentySpamCount,\"\\n\\nThe top 20 most frequently used words in Ham emails are:\\n\",topTwentyHamCount)\n"
   ]
  },
  {
   "cell_type": "code",
   "execution_count": 123,
   "metadata": {},
   "outputs": [
    {
     "data": {
      "text/plain": [
       "Text(0.5, 1.0, 'Ham top 20 words')"
      ]
     },
     "execution_count": 123,
     "metadata": {},
     "output_type": "execute_result"
    },
    {
     "data": {
      "image/png": "[encoded data removed]",
      "text/plain": [
       "<Figure size 2160x432 with 2 Axes>"
      ]
     },
     "metadata": {},
     "output_type": "display_data"
    }
   ],
   "source": [
    "#Convert list of tuples to dataframe and set column names and indexes\n",
    "df_topTwentyHamCount = pd.DataFrame(topTwentyHamCount, columns = ['Ham Words' , 'Frequency']) \n",
    "\n",
    "#Convert list of tuples to dataframe and set column names and indexes\n",
    "df_topTwentySpamCount = pd.DataFrame(topTwentySpamCount, columns = ['Spam Words' , 'Frequency']) \n",
    "\n",
    "#plots the barplot to display the top 20 words used in spam mails \n",
    "fig, (ax,ax1) = plt.subplots(1,2,figsize = (30, 6))\n",
    "sns.barplot(x = df_topTwentySpamCount['Spam Words'], y = df_topTwentySpamCount['Frequency'], ax = ax)\n",
    "ax.set_ylabel('count', fontsize = 20)\n",
    "ax.set_xlabel('Spam words',fontsize = 20)\n",
    "ax.tick_params(labelsize=12)\n",
    "ax.set_title('Spam top 20 words', fontsize = 25)\n",
    "\n",
    "#plots the barplot to display the top 20 words used in ham mails \n",
    "sns.barplot(x = df_topTwentyHamCount['Ham Words'], y = df_topTwentyHamCount['Frequency'], ax = ax1)\n",
    "ax1.set_ylabel('count', fontsize = 20)\n",
    "ax1.set_xlabel('Ham words',fontsize = 20)\n",
    "ax1.tick_params(labelsize=12)\n",
    "ax1.set_title('Ham top 20 words', fontsize = 25)\n"
   ]
  },
  {
   "cell_type": "markdown",
   "metadata": {},
   "source": [
    "#### Most common words in Spam\n",
    "The most spam texts want the recievers to reach back to them. So, most of the words in Spam could lead to the fraud texts.Some of such words are observed in Spam emails are 'company', 'information', 'price', 'free', 'money' and so on.\n",
    "\n",
    "#### Most common words in Ham\n",
    "Many words in ham words list are such as \"please\", \"know\" and \"would\". This is reasonable in a conversation between two people who know each other. Also, here words like \"day\", \"forwarded\" and \"attached\" which indicates that the texts are used to arrange a meeting or has some important file attached."
   ]
  },
  {
   "cell_type": "markdown",
   "metadata": {},
   "source": [
    "To visualise the email length distribution in spam and ham mails"
   ]
  },
  {
   "cell_type": "code",
   "execution_count": 124,
   "metadata": {},
   "outputs": [
    {
     "data": {
      "text/plain": [
       "<matplotlib.legend.Legend at 0x2521a90cac8>"
      ]
     },
     "execution_count": 124,
     "metadata": {},
     "output_type": "execute_result"
    },
    {
     "data": {
      "image/png": "[encoded data removed]",
      "text/plain": [
       "<Figure size 432x288 with 1 Axes>"
      ]
     },
     "metadata": {},
     "output_type": "display_data"
    }
   ],
   "source": [
    "#Density Plot of Distribution of length Of Cleaned Data of Spam and Ham Emails \n",
    "\n",
    "s1 = trainingData[trainingData['Type'] == 0]['Messages'].str.len()\n",
    "sns.distplot(s1, label='Ham')\n",
    "s2 = trainingData[trainingData['Type'] == 1]['Messages'].str.len()\n",
    "sns.distplot(s2, label='Spam')\n",
    "plt.title('Processed Data Length Distribution')\n",
    "plt.legend()\n"
   ]
  },
  {
   "cell_type": "code",
   "execution_count": 125,
   "metadata": {},
   "outputs": [
    {
     "data": {
      "text/plain": [
       "<matplotlib.legend.Legend at 0x2521b743c48>"
      ]
     },
     "execution_count": 125,
     "metadata": {},
     "output_type": "execute_result"
    },
    {
     "data": {
      "image/png": "[encoded data removed]",
      "text/plain": [
       "<Figure size 432x288 with 1 Axes>"
      ]
     },
     "metadata": {},
     "output_type": "display_data"
    }
   ],
   "source": [
    "#Density Plot of Distribution of length Of Raw Data of Spam and Ham Emails \n",
    "\n",
    "s1 = df_all_mail[df_all_mail['Type'] == 0]['Messages'].str.len()\n",
    "sns.distplot(s1, label='Ham')\n",
    "s2 = df_all_mail[df_all_mail['Type'] == 1]['Messages'].str.replace('\\d+', ' ').str.len()\n",
    "sns.distplot(s2, label='Spam')\n",
    "plt.title('Length Distribution')\n",
    "plt.legend()"
   ]
  },
  {
   "cell_type": "code",
   "execution_count": 126,
   "metadata": {},
   "outputs": [
    {
     "data": {
      "text/plain": [
       "Text(0.5, 1.0, 'Distribution Of Processed Data Email Length')"
      ]
     },
     "execution_count": 126,
     "metadata": {},
     "output_type": "execute_result"
    },
    {
     "data": {
      "image/png": "[encoded data removed]",
      "text/plain": [
       "<Figure size 432x288 with 1 Axes>"
      ]
     },
     "metadata": {},
     "output_type": "display_data"
    }
   ],
   "source": [
    "#Boxplot of Distribution of length Of Processed Data of Spam and Ham Emails \n",
    "msgLen = trainingData['Messages'].str.len()\n",
    "sns.set_style(\"whitegrid\") \n",
    "sns.boxplot(x = 'Type', y = msgLen, data = trainingData) \n",
    "plt.title('Distribution Of Processed Data Email Length')\n",
    "\n"
   ]
  },
  {
   "cell_type": "code",
   "execution_count": 127,
   "metadata": {},
   "outputs": [
    {
     "data": {
      "text/plain": [
       "Text(0.5, 1.0, 'Distribution Of Email Length')"
      ]
     },
     "execution_count": 127,
     "metadata": {},
     "output_type": "execute_result"
    },
    {
     "data": {
      "image/png": "[encoded data removed]",
      "text/plain": [
       "<Figure size 432x288 with 1 Axes>"
      ]
     },
     "metadata": {},
     "output_type": "display_data"
    }
   ],
   "source": [
    "#Boxplot of Distribution of length Of Raw Data of Spam and Ham Emails \n",
    "msgLen = df_all_mail['Messages'].str.len()\n",
    "sns.set_style(\"whitegrid\") \n",
    "sns.boxplot(x = 'Type', y = msgLen, data = df_all_mail) \n",
    "plt.title('Distribution Of Email Length')"
   ]
  },
  {
   "cell_type": "markdown",
   "metadata": {},
   "source": [
    "<b>OBSERVATION:</b> \n",
    "The above four plots are distributions of spam and ham text before and after precessing. The precessing including removing punctuations and stopwords in English means cleaned Text. <br/>\n",
    "1. After processing, both spam and ham text are shorter than original length. <br/>\n",
    "2. For Non-Processed Data, the density of email length of Spam data is more than of Ham Text Data. Albiet, the length distribution in Ham Text Data is more denser than Spam for processed Data.<br/>\n",
    "3. Also, the mean and median of spam text is longer than ham text. This is because usually the spam text include a lot of introduction sentence."
   ]
  },
  {
   "cell_type": "markdown",
   "metadata": {},
   "source": [
    "### WordCloud"
   ]
  },
  {
   "cell_type": "code",
   "execution_count": 128,
   "metadata": {},
   "outputs": [
    {
     "ename": "ModuleNotFoundError",
     "evalue": "No module named 'wordcloud'",
     "output_type": "error",
     "traceback": [
      "\u001b[1;31m---------------------------------------------------------------------------\u001b[0m",
      "\u001b[1;31mModuleNotFoundError\u001b[0m                       Traceback (most recent call last)",
      "\u001b[1;32m<ipython-input-128-73eeb71de72d>\u001b[0m in \u001b[0;36m<module>\u001b[1;34m\u001b[0m\n\u001b[1;32m----> 1\u001b[1;33m \u001b[1;32mfrom\u001b[0m \u001b[0mwordcloud\u001b[0m \u001b[1;32mimport\u001b[0m \u001b[0mWordCloud\u001b[0m\u001b[1;33m,\u001b[0m \u001b[0mImageColorGenerator\u001b[0m\u001b[1;33m\u001b[0m\u001b[1;33m\u001b[0m\u001b[0m\n\u001b[0m",
      "\u001b[1;31mModuleNotFoundError\u001b[0m: No module named 'wordcloud'"
     ]
    }
   ],
   "source": [
    "from wordcloud import WordCloud, ImageColorGenerator"
   ]
  },
  {
   "cell_type": "markdown",
   "metadata": {},
   "source": [
    "### SUPERVISED CLASSIFICATION & MODEL SELECTION"
   ]
  },
  {
   "cell_type": "markdown",
   "metadata": {},
   "source": [
    "Message column is text data. Hence, contains lot of words. And our system understands numbers.\n",
    "Therefore, we will convert our text data into numeric data such that does not looses much of the information.\n",
    "There are 2 ways i.e. bag of words which gives number to each word which is not much convenient.\n",
    "So, here we are using Count Vectorization and TF-IDF Techniques."
   ]
  },
  {
   "cell_type": "markdown",
   "metadata": {},
   "source": [
    "### Count Vectorization\n",
    "Count Vectorization involves counting the number of occurrences each words appears in a document. This could be implemented by using Python’s Sci-kit learn library which has a tool called CountVectorizer. "
   ]
  },
  {
   "cell_type": "code",
   "execution_count": 129,
   "metadata": {},
   "outputs": [],
   "source": [
    "#CountVectorization\n",
    "\n",
    "cv = CountVectorizer()\n",
    "\n",
    "#applying count vectorization encoding to the trainset, testset and message column  \n",
    "msg_traincv = cv.fit_transform(msg_train)\n",
    "msg_testcv=cv.transform(msg_test)\n",
    "features_cv = cv.fit_transform(df_msg1)\n"
   ]
  },
  {
   "cell_type": "markdown",
   "metadata": {},
   "source": [
    "#### Cross Validation\n",
    "\n",
    "Here, using k-fold cross validation.\n",
    "As this dataset is imbalanced and cross_val_score function does not have attribute to shuffle the data. So, manually have added a line of code to shuffle the dataset before cross-validation.\n",
    "<br>While evaluating cross_val_score using scoring as 'f1' because F1-score metric is weighted average of Precision and recall."
   ]
  },
  {
   "cell_type": "code",
   "execution_count": 130,
   "metadata": {},
   "outputs": [],
   "source": [
    "#setting n_fold parameter to 5\n",
    "n_folds = 5\n",
    "\n",
    "#creates the function to return the model's cross validation scores \n",
    "def f1_cv1(model):\n",
    "    kf = KFold(n_folds, shuffle = True, random_state = 29).get_n_splits(features_cv)\n",
    "    f1 = cross_val_score(model, features_cv, df_type, scoring = 'f1', cv = kf )\n",
    "    return (f1)\n",
    "\n",
    "svc = SVC(kernel = 'sigmoid', gamma = 1.0)\n",
    "rfc = RandomForestClassifier(n_estimators = 31, random_state = 32)\n",
    "mnb = MultinomialNB(alpha = .2)"
   ]
  },
  {
   "cell_type": "code",
   "execution_count": 131,
   "metadata": {},
   "outputs": [
    {
     "name": "stdout",
     "output_type": "stream",
     "text": [
      "\n",
      "SVC score: 0.741956(0.010333)\n",
      "\n"
     ]
    }
   ],
   "source": [
    "#displays the cross validation score for model using 'SVC Algorithm'\n",
    "score1 = f1_cv1(svc)\n",
    "print ('\\nSVC score: {:4f}({:4f})\\n'.format(score1.mean(), score1.std()))"
   ]
  },
  {
   "cell_type": "code",
   "execution_count": 132,
   "metadata": {},
   "outputs": [
    {
     "name": "stdout",
     "output_type": "stream",
     "text": [
      "\n",
      "RandomForest score: 0.953906(0.004613)\n",
      "\n"
     ]
    }
   ],
   "source": [
    "#displays the cross validation score for model using 'Random Forest'\n",
    "score1 = f1_cv1(rfc)\n",
    "print ('\\nRandomForest score: {:4f}({:4f})\\n'.format(score1.mean(), score1.std()))"
   ]
  },
  {
   "cell_type": "code",
   "execution_count": 133,
   "metadata": {},
   "outputs": [
    {
     "name": "stdout",
     "output_type": "stream",
     "text": [
      "\n",
      "Multinomial NB score: 0.968132(0.003910)\n",
      "\n"
     ]
    }
   ],
   "source": [
    "#displays the cross validation score for model using 'MultinomialNB'\n",
    "score1 = f1_cv1(mnb)\n",
    "print ('\\nMultinomial NB score: {:4f}({:4f})\\n'.format(score1.mean(), score1.std()))"
   ]
  },
  {
   "cell_type": "markdown",
   "metadata": {},
   "source": [
    "<b>Observation:</b> It seems that Multinomial NB and Random Forest performs best with F1-score around 96.8% and 95.39% of f1 score mean value . <br><br>Now will evaluate on how they perform in terms of <b>Accuracy</b>:"
   ]
  },
  {
   "cell_type": "code",
   "execution_count": 134,
   "metadata": {},
   "outputs": [],
   "source": [
    "#creates function to fit the model on training set\n",
    "def classifier(clf, msg_train, type_train):\n",
    "    clf.fit(msg_train, type_train)\n",
    "    \n",
    "#creates the function which returns the prediction values on the test set\n",
    "def predictor(clf, msg_test):\n",
    "    return (clf.predict(msg_test))    "
   ]
  },
  {
   "cell_type": "code",
   "execution_count": 135,
   "metadata": {},
   "outputs": [],
   "source": [
    "clf = {'SVC':svc, 'RandomForest':rfc,  'MultinomialNB': mnb}"
   ]
  },
  {
   "cell_type": "code",
   "execution_count": 136,
   "metadata": {},
   "outputs": [],
   "source": [
    "preds_cv = []\n",
    "#stores and fits the different model algorithm to make predictions on test set\n",
    "for key,value in clf.items():\n",
    "    classifier(value,  msg_traincv, type_train)\n",
    "    pred = predictor(value,msg_testcv)\n",
    "    preds_cv.append((key, accuracy_score(type_test,pred)))"
   ]
  },
  {
   "cell_type": "code",
   "execution_count": 137,
   "metadata": {},
   "outputs": [
    {
     "data": {
      "text/plain": [
       "[('SVC', 0.8432288192128086),\n",
       " ('RandomForest', 0.9679786524349566),\n",
       " ('MultinomialNB', 0.9759839893262174)]"
      ]
     },
     "execution_count": 137,
     "metadata": {},
     "output_type": "execute_result"
    }
   ],
   "source": [
    "#displays the model with their accuracies\n",
    "preds_cv"
   ]
  },
  {
   "cell_type": "markdown",
   "metadata": {},
   "source": [
    "### TF-IDF VECTORIZER(Term frequency-Inverse distribution frequency)\n",
    "It reduces the weightage to the words which are frequently used and increases the weightage which actually influences the data.\n",
    "The term frequency refers to how much a term (i.e. a word) appears in a document while Inverse document frequency refers to how common or rare a term appears in a document."
   ]
  },
  {
   "cell_type": "code",
   "execution_count": 138,
   "metadata": {},
   "outputs": [],
   "source": [
    "cv1 = TfidfVectorizer(min_df=1,stop_words='english')\n",
    "\n",
    "#applying TF-IDF encoding to the trainset, testset and message column  \n",
    "features = cv1.fit_transform(df_msg1)\n",
    "msg_traincv1 = cv1.fit_transform(msg_train)\n",
    "msg_testcv1 = cv1.transform(msg_test)\n"
   ]
  },
  {
   "cell_type": "markdown",
   "metadata": {},
   "source": [
    "#### Cross Validation\n",
    "\n",
    "Here, using k-fold cross validation.\n",
    "As this dataset is imbalanced and cross_val_score function does not have attribute to shuffle the data. So, manually have added a line of code to shuffle the dataset before cross-validation.\n",
    "<br>While evaluating cross_val_score using scoring as 'f1' because F1-score metric is weighted average of Precision and recall.\n"
   ]
  },
  {
   "cell_type": "code",
   "execution_count": 139,
   "metadata": {},
   "outputs": [],
   "source": [
    "#setting n_fold parameter to 5\n",
    "n_folds = 5\n",
    "#creates the function to return the model's cross validation scores \n",
    "def f1_cv(model):\n",
    "    kf = KFold(n_folds, shuffle = True, random_state = 29).get_n_splits(features)\n",
    "    f1 = cross_val_score(model, features, df_type, scoring = 'f1', cv = kf )\n",
    "    return (f1)"
   ]
  },
  {
   "cell_type": "code",
   "execution_count": 140,
   "metadata": {},
   "outputs": [],
   "source": [
    "svc = SVC(kernel = 'sigmoid', gamma = 1.0)\n",
    "rfc = RandomForestClassifier(n_estimators = 31, random_state = 32)\n",
    "mnb = MultinomialNB(alpha = .2)"
   ]
  },
  {
   "cell_type": "code",
   "execution_count": 141,
   "metadata": {},
   "outputs": [
    {
     "name": "stdout",
     "output_type": "stream",
     "text": [
      "\n",
      "SVC score: 0.980768(0.003607)\n",
      "\n"
     ]
    }
   ],
   "source": [
    "#displays the cross validation score for model using 'SVC Algorithm'\n",
    "score = f1_cv(svc)\n",
    "print ('\\nSVC score: {:4f}({:4f})\\n'.format(score.mean(), score.std()))"
   ]
  },
  {
   "cell_type": "code",
   "execution_count": 142,
   "metadata": {},
   "outputs": [
    {
     "name": "stdout",
     "output_type": "stream",
     "text": [
      "\n",
      "RandomForest score: 0.946863(0.003964)\n",
      "\n"
     ]
    }
   ],
   "source": [
    "#displays the cross validation score for model using 'Random Forest'\n",
    "score = f1_cv(rfc)\n",
    "print ('\\nRandomForest score: {:4f}({:4f})\\n'.format(score.mean(), score.std()))"
   ]
  },
  {
   "cell_type": "code",
   "execution_count": 143,
   "metadata": {},
   "outputs": [
    {
     "name": "stdout",
     "output_type": "stream",
     "text": [
      "\n",
      "Multinomial NB score: 0.964687(0.007553)\n",
      "\n"
     ]
    }
   ],
   "source": [
    "#displays the cross validation score for model using 'MultinomialNB'\n",
    "score = f1_cv(mnb)\n",
    "print ('\\nMultinomial NB score: {:4f}({:4f})\\n'.format(score.mean(), score.std()))"
   ]
  },
  {
   "cell_type": "markdown",
   "metadata": {},
   "source": [
    "<b>OBSERVATION</b> It seems that SVC and Multinomial NB perform best with F1-score around 0.98 and 0.96. <br><br>Now will evaluate on how they perform in terms of <b>Accuracy</b>:"
   ]
  },
  {
   "cell_type": "code",
   "execution_count": 144,
   "metadata": {},
   "outputs": [],
   "source": [
    "#creates function to fit the model on training set\n",
    "def classifier(clf, msg_train, type_train):\n",
    "    clf.fit(msg_train, type_train)\n",
    "\n",
    "#creates the function which returns the prediction values on the test set\n",
    "def predictor(clf, msg_test):\n",
    "    return (clf.predict(msg_test))"
   ]
  },
  {
   "cell_type": "code",
   "execution_count": 145,
   "metadata": {},
   "outputs": [],
   "source": [
    "clf = {'SVC':svc, 'RandomForest':rfc,  'MultinomialNB': mnb}\n",
    "preds = []\n",
    "#stores and fits the different model algorithm to make predictions on test set\n",
    "for key,value in clf.items():\n",
    "    classifier(value,  msg_traincv1, type_train)\n",
    "    pred = predictor(value,msg_testcv1)\n",
    "    preds.append((key, accuracy_score(type_test,pred)))"
   ]
  },
  {
   "cell_type": "code",
   "execution_count": 146,
   "metadata": {},
   "outputs": [
    {
     "data": {
      "text/plain": [
       "[('SVC', 0.9839893262174784),\n",
       " ('RandomForest', 0.9646430953969313),\n",
       " ('MultinomialNB', 0.9739826551034023)]"
      ]
     },
     "execution_count": 146,
     "metadata": {},
     "output_type": "execute_result"
    }
   ],
   "source": [
    "#displays the model with their accuracies\n",
    "preds"
   ]
  },
  {
   "cell_type": "code",
   "execution_count": 147,
   "metadata": {},
   "outputs": [
    {
     "data": {
      "text/plain": [
       "Text(0.5, 1.0, 'Models Performance for TF-IDF')"
      ]
     },
     "execution_count": 147,
     "metadata": {},
     "output_type": "execute_result"
    },
    {
     "data": {
      "image/png": "[encoded data removed]",
      "text/plain": [
       "<Figure size 2160x720 with 2 Axes>"
      ]
     },
     "metadata": {},
     "output_type": "display_data"
    }
   ],
   "source": [
    "#Convert list of tuples to dataframe and set column names and indexes\n",
    "df_accuracyCV = pd.DataFrame(preds_cv, columns = ['Model', 'Accuracy'])\n",
    "\n",
    "#Convert list of tuples to dataframe and set column names and indexes\n",
    "df_accuracyTFIDF = pd.DataFrame(preds, columns = ['Model', 'Accuracy'])\n",
    "\n",
    "#plots the barplot to display the Models performance for Count Vectorization \n",
    "fig, (ax,ax1) = plt.subplots(1,2,figsize = (30, 10))\n",
    "sns.barplot(x = df_accuracyCV['Model'], y = df_accuracyCV['Accuracy'], ax = ax)\n",
    "ax.set_ylabel('Accuracy', fontsize = 25)\n",
    "ax.set_xlabel('Models',fontsize = 25)\n",
    "ax.tick_params(labelsize=18)\n",
    "ax.set_title('Models performance for Count Vectorization', fontsize = 30)\n",
    "\n",
    "#plots the barplot to display the Models Performance for TF-IDF\n",
    "sns.barplot(x = df_accuracyTFIDF['Model'], y = df_accuracyTFIDF['Accuracy'], ax = ax1)\n",
    "ax1.set_ylabel('Accuracy', fontsize = 25)\n",
    "ax1.set_xlabel('Models',fontsize = 25)\n",
    "ax1.tick_params(labelsize=18)\n",
    "ax1.set_title('Models Performance for TF-IDF', fontsize = 30)\n"
   ]
  },
  {
   "cell_type": "markdown",
   "metadata": {},
   "source": [
    "For Count Vectorization Technique, Multinomial Algorithm is giving the best result with good Accuracy of 97% and mean F1 score of 96% comparing to other models i.e. SVC and Random Forest.<br/>\n",
    "However, for TF-IDF Technique, the SVC algorithm outperforms and gives the best result with 98% Accuracy and F1 score of 98%.<br/>\n",
    "But, MultinomialNB model performs good for both Count Vectorization anf TF-IDF Technique.<br/>\n",
    "<b>So, we will select the MultinomialNB algorithm using TF-IDF Technique the most effective model for evaluation. </b>"
   ]
  },
  {
   "cell_type": "markdown",
   "metadata": {},
   "source": [
    "Here, have used 3 different classifiers which are 'Random Forest', 'Support Vector Machine(SVM)' and 'Multinomial Naive Bayes' algorithms to build and compare models.<br/><br/>\n",
    "<b>1) Random Forest </b> - Random Forest is developed by aggregating trees. It takes different random subsets of the training dataset and then builds the different decision trees with each subset. Thus, aggregates the each decision tree prediction or say vote to get the final and better result. Random Forest avoids overfitting, easy to deal with large number of features and helps with feature selection based on importance. It also removes the biasness as choosing random dataset will let us help to use the whole problem set. <br/><br/>\n",
    "<b>2) Support Vector Machine(SVM) </b>- SVM is also known as Discriminative classifier. This algorithm can be used for both classification and regression problems but gives better result for classification problem.<br/>\n",
    "It includes 3 key points which are Support Vectors, Hyperplane and margin.<br/>\n",
    "Support Vectors are the closest datapoints to the hyperplane, Hyperplane is a decision \n",
    "plane which seperates different classes datapoint and Margin is calculated as the perpendicular\n",
    "distance from the line to support vectors. If the margin is larger in between the classes\n",
    "then it is considered as good margin else it is considered as bad margin.<br/>\n",
    "Generally, SVM constructs the hyperplane to seperate different classes.  <br/><br/>\n",
    "<b>3) Multinomial Naive Bayes </b>- It is a probabilistic machine learning algorithm.<br/>This algorithm works on Bayes Theorem.\n",
    "Bayes Theorem is a mathematical theorem where we use existing data to predict\n",
    " what the outcome of a certain event will be for a given set of conditions.\n",
    "In Naive Bayes, we take two assumptions. First that each feature should be independent to each\n",
    "other and second is that each feature is equally contributing to form output.\n",
    "When the distribution is generated by Multinomial Distribution, than uses Multinomial \n",
    "Naive Bayes Classifer.\n"
   ]
  },
  {
   "cell_type": "markdown",
   "metadata": {},
   "source": [
    "### MODEL EVALUATION"
   ]
  },
  {
   "cell_type": "markdown",
   "metadata": {},
   "source": [
    "First, evaluate the model by tuning the 'n_fold' parameter: "
   ]
  },
  {
   "cell_type": "code",
   "execution_count": 148,
   "metadata": {},
   "outputs": [
    {
     "name": "stdout",
     "output_type": "stream",
     "text": [
      "\n",
      "Multinomial NB score: 0.964687(0.007553)\n",
      "\n"
     ]
    }
   ],
   "source": [
    "#setting n_fold parameter to 5\n",
    "n_folds = 5\n",
    "\n",
    "score = f1_cv(mnb)\n",
    "print ('\\nMultinomial NB score: {:4f}({:4f})\\n'.format(score.mean(), score.std()))"
   ]
  },
  {
   "cell_type": "code",
   "execution_count": 149,
   "metadata": {},
   "outputs": [
    {
     "name": "stdout",
     "output_type": "stream",
     "text": [
      "\n",
      "Multinomial NB score: 0.967265(0.010648)\n",
      "\n"
     ]
    }
   ],
   "source": [
    "#setting n_fold parameter to 10\n",
    "n_folds = 10\n",
    "score = f1_cv(mnb)\n",
    "print ('\\nMultinomial NB score: {:4f}({:4f})\\n'.format(score.mean(), score.std()))"
   ]
  },
  {
   "cell_type": "code",
   "execution_count": 150,
   "metadata": {},
   "outputs": [
    {
     "name": "stdout",
     "output_type": "stream",
     "text": [
      "\n",
      "Multinomial NB score: 0.967945(0.015968)\n",
      "\n"
     ]
    }
   ],
   "source": [
    "#setting n_fold parameter to 20\n",
    "n_folds = 20\n",
    "score = f1_cv(mnb)\n",
    "print ('\\nMultinomial NB score: {:4f}({:4f})\\n'.format(score.mean(), score.std()))"
   ]
  },
  {
   "cell_type": "markdown",
   "metadata": {},
   "source": [
    "<b>NOTE:</b> Model for n_fold = 5 gives the best result with good F1 score mean value an less standard deviation. However, on increasing the n_fold number, it is observed there is not much difference in the mean value but increases the standard deviation.\n",
    "\n"
   ]
  },
  {
   "cell_type": "markdown",
   "metadata": {},
   "source": [
    "Now, evaluating the model by plotting graph plots which includes <b>Validation Curve and Learning Curve.</b><br/> \n",
    "A validation curve plots the score over a varying hyper parameter, while a learning curve plots the score over varying numbers of training samples.\n"
   ]
  },
  {
   "cell_type": "markdown",
   "metadata": {},
   "source": [
    "#### VALIDATION CURVE PLOT\n",
    "Validation Curve visualises the perfrmance metric over a range of values for some hyperparameters.This helps to evaluate how the hyperparameters control the complexity of model.\n",
    "The model must be complex enough to capture relevant information in th training data. However, too complex model can lead to overfitting which should be avoided.\n",
    "Below is the validation curve over a multinomial Naive Bayes alpha parameter."
   ]
  },
  {
   "cell_type": "code",
   "execution_count": 151,
   "metadata": {},
   "outputs": [
    {
     "data": {
      "image/png": "[encoded data removed]",
      "text/plain": [
       "<Figure size 432x288 with 1 Axes>"
      ]
     },
     "metadata": {},
     "output_type": "display_data"
    }
   ],
   "source": [
    "# Plotting Validation Curve\n",
    "\n",
    "estimator = MultinomialNB()\n",
    "\n",
    "# Create range of values for parameter\n",
    "param_range = np.logspace(-2, 1, 10)\n",
    "\n",
    "# Calculate accuracy on training and test set using range of parameter values\n",
    "train_scores, test_scores = validation_curve(\n",
    "    estimator,features,df_type, param_name=\"alpha\", param_range=param_range,\n",
    "    scoring=\"accuracy\", cv=5)\n",
    "\n",
    "\n",
    "# Calculate mean and standard deviation for training set scores\n",
    "train_scores_mean = np.mean(train_scores, axis=1)\n",
    "train_scores_std = np.std(train_scores, axis=1)\n",
    "\n",
    "# Calculate mean and standard deviation for test set scores\n",
    "test_scores_mean = np.mean(test_scores, axis=1)\n",
    "test_scores_std = np.std(test_scores, axis=1)\n",
    "\n",
    "\n",
    "lw = 2\n",
    "# Plot mean accuracy scores and accuracy bands for training and test sets \n",
    "plt.semilogx(param_range, train_scores_mean, label=\"Training score\",\n",
    "             color=\"darkorange\", lw=lw)\n",
    "plt.fill_between(param_range, train_scores_mean - train_scores_std,\n",
    "                 train_scores_mean + train_scores_std, alpha=0.2,\n",
    "                 color=\"darkorange\", lw=lw)\n",
    "plt.semilogx(param_range, test_scores_mean, label=\"Cross-validation score\",\n",
    "             color=\"navy\", lw=lw)\n",
    "plt.fill_between(param_range, test_scores_mean - test_scores_std,\n",
    "                 test_scores_mean + test_scores_std, alpha=0.2,\n",
    "                 color=\"navy\", lw=lw)\n",
    "\n",
    "# Create plot\n",
    "plt.title(\"Validation Curve with MultinomialNB\", fontsize = 20)\n",
    "plt.xlabel(r\"$\\alpha$\", fontsize = 15)\n",
    "plt.ylabel(\"Score\", fontsize = 15)\n",
    "plt.ylim(0.0, 1.1)\n",
    "plt.legend(loc=\"best\")\n",
    "plt.show()"
   ]
  },
  {
   "cell_type": "markdown",
   "metadata": {},
   "source": [
    "#### LEARNING CURVE PLOT\n",
    "It plots the models performance on thr training and unseen data as a function of the training set size.\n",
    "This curve helps to evaluate if the model suffers from high variance or high biasness.<br/>\n",
    "If the performance of the model on the training and cross validation set are similar i.e both set exhibit a poor accuracy than it leads to <b>High Biasness</b>.<br/>\n",
    "If there is relatively large gap between CV and training accuracy than it strongly indicates <b>High Variance</b>(where the training accuracy is high but unseen accuracy significantly lower).\n"
   ]
  },
  {
   "cell_type": "code",
   "execution_count": 152,
   "metadata": {},
   "outputs": [
    {
     "data": {
      "image/png": "[encoded data removed]",
      "text/plain": [
       "<Figure size 432x288 with 1 Axes>"
      ]
     },
     "metadata": {},
     "output_type": "display_data"
    }
   ],
   "source": [
    "# Plotting Learning Curve\n",
    "\n",
    "estimator = MultinomialNB()\n",
    "\n",
    "# Create range of values for parameter\n",
    "train_sizes= np.linspace(.05, 1.0, 10)\n",
    "\n",
    "# Calculate accuracy on training and test set using range of parameter values\n",
    "train_sizes, train_scores, test_scores = learning_curve(estimator,features,df_type,\n",
    "                                                        train_sizes=train_sizes, cv = 5)\n",
    "\n",
    "# Calculate mean for training and test set scores\n",
    "train_scores_mean = np.mean(train_scores, axis=1)\n",
    "test_scores_mean = np.mean(test_scores, axis=1)\n",
    "\n",
    "\n",
    "plt.grid()\n",
    "\n",
    "# Plot mean accuracy scores for training and test sets \n",
    "plt.plot(train_sizes, train_scores_mean, 'o-', color = \"r\", label = \"Training Score\")\n",
    "plt.plot(train_sizes, test_scores_mean,'o-', color = \"g\", label = \"Cross Validation Score\")\n",
    "\n",
    "# Create plot\n",
    "title = \"Learning Curve with MultinomialNB\" \n",
    "plt.title(title, fontsize = 20)\n",
    "ylim= (0.0,1.01)\n",
    "plt.ylim(ylim)\n",
    "plt.xlabel(\"Training Samples\", fontsize = 15)\n",
    "plt.ylabel(\"Score\", fontsize = 15)\n",
    "plt.legend(loc=\"best\")\n",
    "plt.show()"
   ]
  },
  {
   "cell_type": "markdown",
   "metadata": {},
   "source": [
    "<b>OBSERVATION:</b> The Learning Curve Graph shows the good bias-variance trade off. Here, the accuracy on the training and validation data tend to converge and also plateaux."
   ]
  }
 ],
 "metadata": {
  "kernelspec": {
   "display_name": "Python 3",
   "language": "python",
   "name": "python3"
  },
  "language_info": {
   "codemirror_mode": {
    "name": "ipython",
    "version": 3
   },
   "file_extension": ".py",
   "mimetype": "text/x-python",
   "name": "python",
   "nbconvert_exporter": "python",
   "pygments_lexer": "ipython3",
   "version": "3.7.4"
  }
 },
 "nbformat": 4,
 "nbformat_minor": 2
}
